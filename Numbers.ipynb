{
  "nbformat": 4,
  "nbformat_minor": 0,
  "metadata": {
    "colab": {
      "name": "Numbers.ipynb",
      "provenance": [],
      "authorship_tag": "ABX9TyPMP6GpiRD+1d5jDt16OwT6",
      "include_colab_link": true
    },
    "kernelspec": {
      "name": "python3",
      "display_name": "Python 3"
    },
    "language_info": {
      "name": "python"
    }
  },
  "cells": [
    {
      "cell_type": "markdown",
      "metadata": {
        "id": "view-in-github",
        "colab_type": "text"
      },
      "source": [
        "<a href=\"https://colab.research.google.com/github/HarshChaudhary29/Python-Learning/blob/main/Numbers.ipynb\" target=\"_parent\"><img src=\"https://colab.research.google.com/assets/colab-badge.svg\" alt=\"Open In Colab\"/></a>"
      ]
    },
    {
      "cell_type": "markdown",
      "source": [
        "#ADDITION"
      ],
      "metadata": {
        "id": "dQvm9eOTta5O"
      }
    },
    {
      "cell_type": "code",
      "execution_count": 1,
      "metadata": {
        "colab": {
          "base_uri": "https://localhost:8080/"
        },
        "id": "wFSV8tPGrpLE",
        "outputId": "305907c3-0070-4427-88f0-a47d2c88f97d"
      },
      "outputs": [
        {
          "output_type": "execute_result",
          "data": {
            "text/plain": [
              "11"
            ]
          },
          "metadata": {},
          "execution_count": 1
        }
      ],
      "source": [
        "2+9"
      ]
    },
    {
      "cell_type": "markdown",
      "source": [
        "#SUBTRACTION"
      ],
      "metadata": {
        "id": "0e0IfQGutZBl"
      }
    },
    {
      "cell_type": "code",
      "source": [
        "2-9"
      ],
      "metadata": {
        "colab": {
          "base_uri": "https://localhost:8080/"
        },
        "id": "lzFdKH_xttNB",
        "outputId": "e8f6f0ce-0076-413e-a400-6a48ab253f8a"
      },
      "execution_count": 2,
      "outputs": [
        {
          "output_type": "execute_result",
          "data": {
            "text/plain": [
              "-7"
            ]
          },
          "metadata": {},
          "execution_count": 2
        }
      ]
    },
    {
      "cell_type": "markdown",
      "source": [
        "#MULTIPLICATION"
      ],
      "metadata": {
        "id": "CfQ7q0ZPtvuO"
      }
    },
    {
      "cell_type": "code",
      "source": [
        "2*9"
      ],
      "metadata": {
        "colab": {
          "base_uri": "https://localhost:8080/"
        },
        "id": "O_ZmsQpztuTv",
        "outputId": "f36cb580-9512-466b-d91f-71069c57d26b"
      },
      "execution_count": 3,
      "outputs": [
        {
          "output_type": "execute_result",
          "data": {
            "text/plain": [
              "18"
            ]
          },
          "metadata": {},
          "execution_count": 3
        }
      ]
    },
    {
      "cell_type": "markdown",
      "source": [
        "#DIVISION"
      ],
      "metadata": {
        "id": "HsIF46HAt1DR"
      }
    },
    {
      "cell_type": "code",
      "source": [
        "2/9"
      ],
      "metadata": {
        "colab": {
          "base_uri": "https://localhost:8080/"
        },
        "id": "_Jz52YkDtz-c",
        "outputId": "a5788f4c-09ba-4319-e7e6-91e64df962e1"
      },
      "execution_count": 4,
      "outputs": [
        {
          "output_type": "execute_result",
          "data": {
            "text/plain": [
              "0.2222222222222222"
            ]
          },
          "metadata": {},
          "execution_count": 4
        }
      ]
    },
    {
      "cell_type": "markdown",
      "source": [
        "#FLOOR DIVISION"
      ],
      "metadata": {
        "id": "Iz1u8_5nuDQN"
      }
    },
    {
      "cell_type": "code",
      "source": [
        "2//9"
      ],
      "metadata": {
        "colab": {
          "base_uri": "https://localhost:8080/"
        },
        "id": "NGrpmjrQt5gz",
        "outputId": "7d14dde8-1019-48b8-962a-bb111624b8ee"
      },
      "execution_count": 5,
      "outputs": [
        {
          "output_type": "execute_result",
          "data": {
            "text/plain": [
              "0"
            ]
          },
          "metadata": {},
          "execution_count": 5
        }
      ]
    },
    {
      "cell_type": "markdown",
      "source": [
        "#MODULO OPERATOR"
      ],
      "metadata": {
        "id": "hUmw25GAuH_u"
      }
    },
    {
      "cell_type": "markdown",
      "source": [
        "This operator is used to obtain remainder"
      ],
      "metadata": {
        "id": "egme9XCSuPXX"
      }
    },
    {
      "cell_type": "code",
      "source": [
        "9%2"
      ],
      "metadata": {
        "colab": {
          "base_uri": "https://localhost:8080/"
        },
        "id": "7XLXxgd-uGYD",
        "outputId": "926e9f26-1e4b-49a5-ca0b-f7ba0e09bdb3"
      },
      "execution_count": 6,
      "outputs": [
        {
          "output_type": "execute_result",
          "data": {
            "text/plain": [
              "1"
            ]
          },
          "metadata": {},
          "execution_count": 6
        }
      ]
    },
    {
      "cell_type": "markdown",
      "source": [
        "#EXPONENTIAL POWER"
      ],
      "metadata": {
        "id": "aqxM64Uvueyo"
      }
    },
    {
      "cell_type": "code",
      "source": [
        "2**3"
      ],
      "metadata": {
        "colab": {
          "base_uri": "https://localhost:8080/"
        },
        "id": "epBLSHTuuNNz",
        "outputId": "29a6afa6-34eb-4d38-86e1-b63923ec090e"
      },
      "execution_count": 7,
      "outputs": [
        {
          "output_type": "execute_result",
          "data": {
            "text/plain": [
              "8"
            ]
          },
          "metadata": {},
          "execution_count": 7
        }
      ]
    },
    {
      "cell_type": "markdown",
      "source": [
        "#Equation that equals **100**"
      ],
      "metadata": {
        "id": "eJFB_jz4ute7"
      }
    },
    {
      "cell_type": "code",
      "source": [
        "50 + 50"
      ],
      "metadata": {
        "colab": {
          "base_uri": "https://localhost:8080/"
        },
        "id": "m_-ko3y1uklQ",
        "outputId": "6a02859c-53fc-4253-fe3c-166742f1e800"
      },
      "execution_count": 8,
      "outputs": [
        {
          "output_type": "execute_result",
          "data": {
            "text/plain": [
              "100"
            ]
          },
          "metadata": {},
          "execution_count": 8
        }
      ]
    },
    {
      "cell_type": "markdown",
      "source": [
        "#Floating Point Accuracy or Representation Error\n"
      ],
      "metadata": {
        "id": "AmecLgs0vCX9"
      }
    },
    {
      "cell_type": "code",
      "source": [
        "0.1+0.2-0.3"
      ],
      "metadata": {
        "colab": {
          "base_uri": "https://localhost:8080/"
        },
        "id": "7wDKMItju2AV",
        "outputId": "f19c7550-6099-47d9-c3d3-c06d2265f636"
      },
      "execution_count": 9,
      "outputs": [
        {
          "output_type": "execute_result",
          "data": {
            "text/plain": [
              "5.551115123125783e-17"
            ]
          },
          "metadata": {},
          "execution_count": 9
        }
      ]
    },
    {
      "cell_type": "code",
      "source": [
        "0.1+0.2"
      ],
      "metadata": {
        "colab": {
          "base_uri": "https://localhost:8080/"
        },
        "id": "hG98m1aevAQ7",
        "outputId": "a3c58cb4-7c18-4ed4-d09e-d2f76183d676"
      },
      "execution_count": 11,
      "outputs": [
        {
          "output_type": "execute_result",
          "data": {
            "text/plain": [
              "0.30000000000000004"
            ]
          },
          "metadata": {},
          "execution_count": 11
        }
      ]
    }
  ]
}